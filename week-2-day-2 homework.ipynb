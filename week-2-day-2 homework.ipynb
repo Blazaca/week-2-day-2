{
 "cells": [
  {
   "cell_type": "markdown",
   "metadata": {},
   "source": [
    "# Functions, Scoping, Data Collections 1 & List Comprehensions"
   ]
  },
  {
   "cell_type": "markdown",
   "metadata": {},
   "source": [
    "## Tasks Today:\n",
    "\n",
    "<i>Monday Additions (or, and ... if statements)</i>\n",
    "\n",
    "1) String Manipulation <br>\n",
    " &nbsp;&nbsp;&nbsp;&nbsp; a) strip() <br>\n",
    " &nbsp;&nbsp;&nbsp;&nbsp; b) title() <br>\n",
    "2) Working With Lists <br>\n",
    " &nbsp;&nbsp;&nbsp;&nbsp; a) min() <br>\n",
    " &nbsp;&nbsp;&nbsp;&nbsp; b) max() <br>\n",
    " &nbsp;&nbsp;&nbsp;&nbsp; c) sum() <br>\n",
    " &nbsp;&nbsp;&nbsp;&nbsp; d) sort() <br>\n",
    " &nbsp;&nbsp;&nbsp;&nbsp; e) Copying a List <br>\n",
    " &nbsp;&nbsp;&nbsp;&nbsp; f) 'in' keyword <br>\n",
    " &nbsp;&nbsp;&nbsp;&nbsp; g) 'not in' keyword <br>\n",
    " &nbsp;&nbsp;&nbsp;&nbsp; i) Checking an Empty List <br>\n",
    " &nbsp;&nbsp;&nbsp;&nbsp; j) Removing Instances with a Loop <br>\n",
    "3) List Comprehensions <br>\n",
    "4) Tuples <br>\n",
    " &nbsp;&nbsp;&nbsp;&nbsp; a) sorted() <br>\n",
    "5) Functions <br>\n",
    " &nbsp;&nbsp;&nbsp;&nbsp; a) User-Defined vs. Built-In Functions <br>\n",
    " &nbsp;&nbsp;&nbsp;&nbsp; b) Accepting Parameters <br>\n",
    " &nbsp;&nbsp;&nbsp;&nbsp; c) Default Parameters <br>\n",
    " &nbsp;&nbsp;&nbsp;&nbsp; d) Making an Argument Optional <br>\n",
    " &nbsp;&nbsp;&nbsp;&nbsp; e) Keyword Arguments <br>\n",
    " &nbsp;&nbsp;&nbsp;&nbsp; f) Returning Values <br>\n",
    " &nbsp;&nbsp;&nbsp;&nbsp; g) *args <br>\n",
    " &nbsp;&nbsp;&nbsp;&nbsp; h) Docstring <br>\n",
    " &nbsp;&nbsp;&nbsp;&nbsp; i) Using a User Function in a Loop <br>\n",
    "6) Scope"
   ]
  },
  {
   "cell_type": "markdown",
   "metadata": {},
   "source": [
    "### String Manipulation"
   ]
  },
  {
   "cell_type": "markdown",
   "metadata": {},
   "source": [
    "##### .lstrip()"
   ]
  },
  {
   "cell_type": "code",
   "execution_count": 1,
   "metadata": {},
   "outputs": [
    {
     "data": {
      "text/plain": [
       "'John Smith'"
      ]
     },
     "execution_count": 1,
     "metadata": {},
     "output_type": "execute_result"
    }
   ],
   "source": [
    "# string.lstrip()\n",
    "name = \"    hJohn Smith\"\n",
    "\n",
    "name.lstrip(\" \" \"h\")"
   ]
  },
  {
   "cell_type": "markdown",
   "metadata": {},
   "source": [
    "##### .rstrip()"
   ]
  },
  {
   "cell_type": "code",
   "execution_count": 2,
   "metadata": {},
   "outputs": [
    {
     "data": {
      "text/plain": [
       "'Bill Rose'"
      ]
     },
     "execution_count": 2,
     "metadata": {},
     "output_type": "execute_result"
    }
   ],
   "source": [
    "# string.rstrip()\n",
    "name = \"Bill Rose         st\"\n",
    "name.rstrip(\" \" \"st\")"
   ]
  },
  {
   "cell_type": "markdown",
   "metadata": {},
   "source": [
    "##### .strip()"
   ]
  },
  {
   "cell_type": "code",
   "execution_count": 5,
   "metadata": {},
   "outputs": [
    {
     "name": "stdout",
     "output_type": "stream",
     "text": [
      "John Smith\n"
     ]
    }
   ],
   "source": [
    "# string.strip()\n",
    "name = \"           John Smith         a\"\n",
    "\n",
    "name = name.strip(\" \" \"a\")\n",
    "print(name)"
   ]
  },
  {
   "cell_type": "markdown",
   "metadata": {},
   "source": [
    "##### .title()"
   ]
  },
  {
   "cell_type": "code",
   "execution_count": null,
   "metadata": {},
   "outputs": [],
   "source": [
    "# string.title()\n",
    "school = ' COding TeMpLe'\n",
    "\n",
    "school.title()"
   ]
  },
  {
   "cell_type": "markdown",
   "metadata": {},
   "source": [
    "### String Exercise <br>\n",
    "<p>Strip all white space and capitalize every name in the list given</p>"
   ]
  },
  {
   "cell_type": "code",
   "execution_count": 10,
   "metadata": {},
   "outputs": [
    {
     "name": "stdout",
     "output_type": "stream",
     "text": [
      "['Connor', 'Max', 'Evan', 'Jordan']\n"
     ]
    }
   ],
   "source": [
    "names = ['    coNNor', 'max', ' EVan ', 'JORDAN']\n",
    "# HINT: You will need to use a for loop for iteration\n",
    "new_list=[]\n",
    "for value in names:\n",
    "    new_list.append(value.strip().title())\n",
    "print(new_list)"
   ]
  },
  {
   "cell_type": "markdown",
   "metadata": {},
   "source": [
    "### Working With Lists"
   ]
  },
  {
   "cell_type": "markdown",
   "metadata": {},
   "source": [
    "##### min()"
   ]
  },
  {
   "cell_type": "code",
   "execution_count": 11,
   "metadata": {},
   "outputs": [
    {
     "name": "stdout",
     "output_type": "stream",
     "text": [
      "6\n"
     ]
    }
   ],
   "source": [
    "# min(list)\n",
    "a_list = [45,67,73,22,25,7,6,122,13]\n",
    "\n",
    "min(a_list)\n",
    "\n",
    "# Works similar to this...\n",
    "# min1 = a_list[0]\n",
    "# for num in a_list:\n",
    "#     if num < min1:\n",
    "#         min1 = num\n",
    "# print(min1)"
   ]
  },
  {
   "cell_type": "markdown",
   "metadata": {},
   "source": [
    "##### max()"
   ]
  },
  {
   "cell_type": "code",
   "execution_count": 12,
   "metadata": {},
   "outputs": [
    {
     "data": {
      "text/plain": [
       "122"
      ]
     },
     "execution_count": 12,
     "metadata": {},
     "output_type": "execute_result"
    }
   ],
   "source": [
    "# max(list)\n",
    "a_list = [45,67,73,22,25,7,6,122,13]\n",
    "\n",
    "max(a_list)"
   ]
  },
  {
   "cell_type": "markdown",
   "metadata": {},
   "source": [
    "##### sum()"
   ]
  },
  {
   "cell_type": "code",
   "execution_count": 14,
   "metadata": {},
   "outputs": [
    {
     "name": "stdout",
     "output_type": "stream",
     "text": [
      "380\n"
     ]
    }
   ],
   "source": [
    "# sum(list)\n",
    "a_list = [45,67,73,22,25,7,6,122,13]\n",
    "\n",
    "sum(a_list)\n",
    "\n",
    "# Similar to this\n",
    "# counter = 0\n",
    "# for num in a_list:\n",
    "#     counter += num\n",
    "# print(counter)"
   ]
  },
  {
   "cell_type": "markdown",
   "metadata": {},
   "source": [
    "##### sorted()"
   ]
  },
  {
   "cell_type": "code",
   "execution_count": 15,
   "metadata": {},
   "outputs": [
    {
     "data": {
      "text/plain": [
       "[6, 7, 13, 22, 25, 45, 67, 73, 122]"
      ]
     },
     "execution_count": 15,
     "metadata": {},
     "output_type": "execute_result"
    }
   ],
   "source": [
    "# sorted(list)\n",
    "a_list = [45,67,73,22,25,7,6,122,13]\n",
    "\n",
    "sorted(a_list)\n",
    "\n",
    "# This is a non destructive sorting method"
   ]
  },
  {
   "cell_type": "markdown",
   "metadata": {},
   "source": [
    "##### .sort() <br>\n",
    "<p>Difference between sort and sorted, is that sorted doesn't change original list it returns a copy, while .sort changes the original list</p>"
   ]
  },
  {
   "cell_type": "code",
   "execution_count": 19,
   "metadata": {},
   "outputs": [
    {
     "name": "stdout",
     "output_type": "stream",
     "text": [
      "[3, 7, 12, 25, 45, 55, 66, 67]\n"
     ]
    }
   ],
   "source": [
    "# list.sort()\n",
    "b_list = [45,67,55,66,25,7,3,12]\n",
    "\n",
    "b_list.sort()\n",
    "# use sorted when you don't want to alter original list,\n",
    "# use .sort() when you want to alter original list\n",
    "print(b_list)"
   ]
  },
  {
   "cell_type": "markdown",
   "metadata": {},
   "source": [
    "##### Copying a List"
   ]
  },
  {
   "cell_type": "code",
   "execution_count": 18,
   "metadata": {},
   "outputs": [
    {
     "data": {
      "text/plain": [
       "[3, 7, 12, 25, 45, 55, 66, 67]"
      ]
     },
     "execution_count": 18,
     "metadata": {},
     "output_type": "execute_result"
    }
   ],
   "source": [
    "# [:] copies a list, doesn't alter original\n",
    "c_list = b_list[:]\n",
    "print(c_list)"
   ]
  },
  {
   "cell_type": "markdown",
   "metadata": {},
   "source": [
    "##### 'in' keyword"
   ]
  },
  {
   "cell_type": "code",
   "execution_count": 24,
   "metadata": {},
   "outputs": [
    {
     "name": "stdout",
     "output_type": "stream",
     "text": [
      "Sam is a instructor\n",
      "Nate does not start with B\n",
      "Derek does not start with B\n",
      "Sam does not start with B\n",
      "Brian name starts with B\n",
      "Terrell does not start with B\n"
     ]
    }
   ],
   "source": [
    "ct_instructors = [\"Nate\", \"Derek\", \"Sam\", \"Brian\", \"Terrell\"]\n",
    "\n",
    "if \"Sam\" in ct_instructors:\n",
    "    print(\"Sam is a instructor\")\n",
    "\n",
    "else:\n",
    "    print(\"Sam is not an instructor\")\n",
    "    \n",
    "# looking for a person whose name starts with \n",
    "for teacher in ct_instructors:\n",
    "    if teacher[0] == 'B':\n",
    "    # or if teacher.startswith'B'\n",
    "        print(f\"{teacher} name starts with B\")\n",
    "    else:\n",
    "        print(f\"{teacher} does not start with B\")"
   ]
  },
  {
   "cell_type": "markdown",
   "metadata": {},
   "source": [
    "##### 'not in' keyword"
   ]
  },
  {
   "cell_type": "code",
   "execution_count": 25,
   "metadata": {},
   "outputs": [
    {
     "name": "stdout",
     "output_type": "stream",
     "text": [
      "No one named Zack here...\n"
     ]
    }
   ],
   "source": [
    "if 'Zack' not in ct_instructors:\n",
    "    print(\"No one named Zack here...\")\n",
    "else:\n",
    "    print(\"Zack has worked here for years!\")"
   ]
  },
  {
   "cell_type": "markdown",
   "metadata": {},
   "source": [
    "##### Checking an Empty List"
   ]
  },
  {
   "cell_type": "code",
   "execution_count": 27,
   "metadata": {},
   "outputs": [
    {
     "name": "stdout",
     "output_type": "stream",
     "text": [
      "True\n",
      "Maybe not...\n"
     ]
    }
   ],
   "source": [
    "# if l_1: or if l_1 = []\n",
    "l_1 = []\n",
    "if l_1 == []:\n",
    "    print(True)\n",
    "\n",
    "if l_1:\n",
    "    print(\"This is a list with stuff in it\")\n",
    "else:\n",
    "    print(\"Maybe not...\")"
   ]
  },
  {
   "cell_type": "markdown",
   "metadata": {},
   "source": [
    "##### Removing Instances with a Loop"
   ]
  },
  {
   "cell_type": "code",
   "execution_count": 29,
   "metadata": {},
   "outputs": [
    {
     "name": "stdout",
     "output_type": "stream",
     "text": [
      "['Derek', 'Sam', 'Brian', 'Terrell', 'Nate', 'Nate']\n",
      "['Derek', 'Sam', 'Brian', 'Terrell', 'Nate']\n",
      "['Derek', 'Sam', 'Brian', 'Terrell']\n"
     ]
    }
   ],
   "source": [
    "# while, remove\n",
    "names = [\"Nate\", \"Derek\", \"Sam\", \"Brian\", \"Terrell\", \"Nate\", \"Nate\"]\n",
    "\n",
    "while 'Nate' in names:\n",
    "    names.remove('Nate')\n",
    "    print(names)"
   ]
  },
  {
   "cell_type": "markdown",
   "metadata": {},
   "source": [
    "### List Exercise <br>\n",
    "<p>Remove all duplicates<br><b>Extra: Create a program that will remove any duplicates from a given list</b></p>"
   ]
  },
  {
   "cell_type": "code",
   "execution_count": 28,
   "metadata": {},
   "outputs": [
    {
     "name": "stdout",
     "output_type": "stream",
     "text": [
      "['connor', 'bob', 'evan', 'max', 2, 3, 4, 'kevin']\n"
     ]
    }
   ],
   "source": [
    "names = ['connor', 'connor', 'bob', 'connor', 'evan', 'max', 'evan', 2, 2, 2, 3, 3, 4, 'bob', 'kevin']\n",
    "# Hint 1: You will need an append\n",
    "# Hint 2: Using an empty list will make life easier\n",
    "\n",
    "new_copy = []\n",
    "for element in names:\n",
    "    if element not in new_copy:\n",
    "        new_copy.append(element)\n",
    "print(new_copy)\n"
   ]
  },
  {
   "cell_type": "markdown",
   "metadata": {},
   "source": [
    "### List Comprehensions <br>\n",
    "<p>Creating a quickly generated list to work with<br>*result*  = [*transform*    *iteration*         *filter*     ]</p>"
   ]
  },
  {
   "cell_type": "markdown",
   "metadata": {},
   "source": [
    "##### In a list comprehension we have a few pieces:\n",
    "1. The first is the counter/ variable - IN this the variable is x\n",
    "2. then we have a transform for the variable\n",
    "3. The finale part of a list comp is called the condition\n",
    "\n",
    "```python\n",
    "    [variable, transform, condition]\n",
    "```"
   ]
  },
  {
   "cell_type": "code",
   "execution_count": 36,
   "metadata": {},
   "outputs": [
    {
     "name": "stdout",
     "output_type": "stream",
     "text": [
      "[0, 1, 2, 3, 4, 5, 6, 7, 8, 9, 10, 11, 12, 13, 14, 15, 16, 17, 18, 19, 20, 21, 22, 23, 24, 25, 26, 27, 28, 29, 30, 31, 32, 33, 34, 35, 36, 37, 38, 39, 40, 41, 42, 43, 44, 45, 46, 47, 48, 49, 50, 51, 52, 53, 54, 55, 56, 57, 58, 59, 60, 61, 62, 63, 64, 65, 66, 67, 68, 69, 70, 71, 72, 73, 74, 75, 76, 77, 78, 79, 80, 81, 82, 83, 84, 85, 86, 87, 88, 89, 90, 91, 92, 93, 94, 95, 96, 97, 98, 99]\n",
      "[0, 1, 2, 3, 4, 5, 6, 7, 8, 9, 10, 11, 12, 13, 14, 15, 16, 17, 18, 19, 20, 21, 22, 23, 24, 25, 26, 27, 28, 29, 30, 31, 32, 33, 34, 35, 36, 37, 38, 39, 40, 41, 42, 43, 44, 45, 46, 47, 48, 49, 50, 51, 52, 53, 54, 55, 56, 57, 58, 59, 60, 61, 62, 63, 64, 65, 66, 67, 68, 69, 70, 71, 72, 73, 74, 75, 76, 77, 78, 79, 80, 81, 82, 83, 84, 85, 86, 87, 88, 89, 90, 91, 92, 93, 94, 95, 96, 97, 98, 99]\n"
     ]
    }
   ],
   "source": [
    "# number comprehension\n",
    "\n",
    "# With a regular for loop\n",
    "nums = []\n",
    "\n",
    "for i in range(100):\n",
    "    nums.append(i)\n",
    "\n",
    "print(nums)\n",
    "# IN a list comprehension we have a few pieces:\n",
    "# The first is the counter/ variable - IN this the variable is x\n",
    "# Then we have a transform for the variable \n",
    "# The finale part of a list comp is called the condition\n",
    "#[variable, transform, condition]\n",
    "\n",
    "nums_comp = [i for i in range(100)]\n",
    "print(nums_comp)\n",
    "\n"
   ]
  },
  {
   "cell_type": "markdown",
   "metadata": {},
   "source": [
    "There are a few benefits to using List comprehensions. The most obvious would be that we now have shorter code to work with instead of using 3+ lines of code in the for loop variant.\n",
    "\n",
    "Another is an added benefit to memory usage. Since the list's memory is allocated first before adding elements to it, we don't have to resize the list once we add elements to it.\n",
    "\n",
    "Lastly, list comprehensions are considered the \"pythonic\" way to write code by the PEP8 standards (Python Style Guide)"
   ]
  },
  {
   "cell_type": "code",
   "execution_count": 43,
   "metadata": {},
   "outputs": [
    {
     "name": "stdout",
     "output_type": "stream",
     "text": [
      "[0, 1, 4, 9, 16, 25, 36, 49, 64, 81]\n"
     ]
    },
    {
     "data": {
      "text/plain": [
       "[0, 1, 4, 9, 16, 25, 36, 49, 64, 81]"
      ]
     },
     "execution_count": 43,
     "metadata": {},
     "output_type": "execute_result"
    }
   ],
   "source": [
    "# square number comprehension\n",
    "squares = []\n",
    "for x in range(10):\n",
    "    squares.append(x**2)\n",
    "print(squares)\n",
    "\n",
    "\n",
    "squares_comp = [x**2 for x in range(10)]\n",
    "squares_comp"
   ]
  },
  {
   "cell_type": "code",
   "execution_count": 52,
   "metadata": {},
   "outputs": [
    {
     "name": "stdout",
     "output_type": "stream",
     "text": [
      "['D', 'S', 'C', 'B', 'T', 'C']\n"
     ]
    },
    {
     "data": {
      "text/plain": [
       "['D', 'S', 'C', 'B', 'T', 'C']"
      ]
     },
     "execution_count": 52,
     "metadata": {},
     "output_type": "execute_result"
    }
   ],
   "source": [
    "# string comprehension\n",
    "\n",
    "names = ['Derek', 'Sam', 'Cody', 'Brian', 'Terrell', 'Connor']\n",
    "\n",
    "first_letter = []\n",
    "\n",
    "for name in names:\n",
    "    first_letter.append(name[0])\n",
    "print(first_letter)\n",
    "\n",
    "\n",
    "\n",
    "first_comp = [name[0] for name in names]\n",
    "first_comp"
   ]
  },
  {
   "cell_type": "code",
   "execution_count": 53,
   "metadata": {},
   "outputs": [
    {
     "name": "stdout",
     "output_type": "stream",
     "text": [
      "['Cody', 'Connor']\n",
      "['Cody', 'Connor']\n"
     ]
    }
   ],
   "source": [
    "# Appending\n",
    "c_names = []\n",
    "\n",
    "for name in names:\n",
    "    if name[0] == 'C':\n",
    "        c_names.append(name)\n",
    "print(c_names)\n",
    "\n",
    "\n",
    "# Using the if statement... always comes after the for loop\n",
    "\n",
    "c_comp = [name for name in names if name[0] == 'C']\n",
    "print(c_comp)"
   ]
  },
  {
   "cell_type": "code",
   "execution_count": 57,
   "metadata": {},
   "outputs": [
    {
     "data": {
      "text/plain": [
       "['Not a C name',\n",
       " 'Not a C name',\n",
       " 'Cody',\n",
       " 'Not a C name',\n",
       " 'Not a C name',\n",
       " 'Connor']"
      ]
     },
     "execution_count": 57,
     "metadata": {},
     "output_type": "execute_result"
    }
   ],
   "source": [
    "# If you want to use an else...\n",
    "# Multiple Condition Syntax\n",
    "c_names_3 = [name if name[0] == 'C' else 'Not a C name' for name in names]\n",
    "c_names_3\n"
   ]
  },
  {
   "cell_type": "markdown",
   "metadata": {},
   "source": [
    "### Tuples <br>\n",
    "<p><b>Defined as an immutable list</b></p><br>Seperated by commas using parenthesis"
   ]
  },
  {
   "cell_type": "code",
   "execution_count": 65,
   "metadata": {},
   "outputs": [
    {
     "name": "stdout",
     "output_type": "stream",
     "text": [
      "<class 'tuple'>\n",
      "<class 'tuple'>\n",
      "1\n",
      "\n",
      "Looping over a tuple using a value:\n",
      "1\n",
      "2\n",
      "3\n",
      "\n",
      "Looping over index\n",
      "[1, 2, 3]\n",
      "(1, 2, 3)\n"
     ]
    }
   ],
   "source": [
    "# Defining a new tuple\n",
    "tup_1 = 1,2,3\n",
    "tup_2 = (4, 5, 6)\n",
    "\n",
    "print(type(tup_1))\n",
    "print(type(tup_2))\n",
    "\n",
    "# indexing into a tuple\n",
    "print(tup_1[0])\n",
    "\n",
    "# attempting to change a tuple\n",
    "# This doesn't work. The only way to change a tuple is\n",
    "# to change the entire list.\n",
    "# tup_1[0] = 45\n",
    "\n",
    "# Looping over a tuple -- Both Ways\n",
    "print('\\nLooping over a tuple using a value:')\n",
    "for x in tup_1:\n",
    "    print(x)\n",
    "    \n",
    "print('\\nLooping over index')\n",
    "\n",
    "# Copy by typecasting\n",
    "list_1 = list(tup_1)\n",
    "print(list_1)\n",
    "tup_3 = tuple(list_1)\n",
    "print(tup_3)"
   ]
  },
  {
   "cell_type": "markdown",
   "metadata": {},
   "source": [
    "##### sorted()"
   ]
  },
  {
   "cell_type": "code",
   "execution_count": 68,
   "metadata": {},
   "outputs": [
    {
     "name": "stdout",
     "output_type": "stream",
     "text": [
      "[4, 10, 27, 27, 33, 36, 64, 65, 66, 78]\n"
     ]
    },
    {
     "data": {
      "text/plain": [
       "(4, 10, 27, 27, 33, 36, 64, 65, 66, 78)"
      ]
     },
     "execution_count": 68,
     "metadata": {},
     "output_type": "execute_result"
    }
   ],
   "source": [
    "tup_5 = (10,65,36,78,33,27,64,27,66,4)\n",
    "\n",
    "sorted_tup = sorted(tup_5)\n",
    "\n",
    "print(sorted_tup)\n",
    "\n",
    "new_tup = tuple(sorted_tup)\n",
    "new_tup\n"
   ]
  },
  {
   "cell_type": "markdown",
   "metadata": {},
   "source": [
    "##### Adding values to a Tuple"
   ]
  },
  {
   "cell_type": "code",
   "execution_count": null,
   "metadata": {},
   "outputs": [],
   "source": [
    "print(tup_5)\n",
    "new_tup_5 = tup_5 + (5,)\n",
    "tup_5"
   ]
  },
  {
   "cell_type": "markdown",
   "metadata": {},
   "source": [
    "## Functions"
   ]
  },
  {
   "cell_type": "markdown",
   "metadata": {},
   "source": [
    "##### User-Defined vs. Built-In Functions"
   ]
  },
  {
   "cell_type": "code",
   "execution_count": 72,
   "metadata": {},
   "outputs": [
    {
     "name": "stdout",
     "output_type": "stream",
     "text": [
      "Hello World!\n",
      "Hello World!\n",
      "Hello World!\n"
     ]
    }
   ],
   "source": [
    "# User defined function\n",
    "# 'def' keyword, functionName, (potential params, potential params,...)\n",
    "\n",
    "def sayHello():\n",
    "    return \"Hello World!\"\n",
    "\n",
    "# Showing the function call in memory\n",
    "print(sayHello())\n",
    "\n",
    "# Showing function invocation\n",
    "print(sayHello())\n",
    "\n",
    "hello = sayHello()\n",
    "print(hello)"
   ]
  },
  {
   "cell_type": "markdown",
   "metadata": {},
   "source": [
    "##### Accepting Parameters"
   ]
  },
  {
   "cell_type": "code",
   "execution_count": 74,
   "metadata": {},
   "outputs": [
    {
     "data": {
      "text/plain": [
       "'George Costanza'"
      ]
     },
     "execution_count": 74,
     "metadata": {},
     "output_type": "execute_result"
    }
   ],
   "source": [
    "# parameters are names for expected function imputs\n",
    "# order matter\n",
    "# inputs can be any data type or object\n",
    "def printFullName(first_name, last_name):\n",
    "    return f'{first_name} {last_name}'\n",
    "\n",
    "printFullName(\"George\", \"Costanza\")"
   ]
  },
  {
   "cell_type": "markdown",
   "metadata": {},
   "source": [
    "##### Default Parameters"
   ]
  },
  {
   "cell_type": "code",
   "execution_count": 75,
   "metadata": {},
   "outputs": [
    {
     "data": {
      "text/plain": [
       "'The name is... James Appledorf'"
      ]
     },
     "execution_count": 75,
     "metadata": {},
     "output_type": "execute_result"
    }
   ],
   "source": [
    "# default parameters will default to a predetermined value unless\n",
    "# otherwise overwritten.\n",
    "#default parameters must come at the END after other params\n",
    "\n",
    "def printAgentName(first_name, last_name = 'Bond'):\n",
    "    return f'The name is... {first_name} {last_name}'\n",
    "\n",
    "print(printAgentName('James'))\n",
    "\n",
    "# Overwritting the default argument\n",
    "print(printAgentName('James', 'Appledorf'))\n",
    "\n",
    "# DON'T DO THIS.\n",
    "# def wontWork(last_name = 'Bond', first_name)\n",
    "#     return f'The name is... {first_name} {last_name}'\n",
    "# Defaults MUST be the last argument\n"
   ]
  },
  {
   "cell_type": "markdown",
   "metadata": {},
   "source": [
    "##### Making an Argument Optional"
   ]
  },
  {
   "cell_type": "code",
   "execution_count": 81,
   "metadata": {},
   "outputs": [
    {
     "data": {
      "text/plain": [
       "'John Jacob Jinglehiemer'"
      ]
     },
     "execution_count": 81,
     "metadata": {},
     "output_type": "execute_result"
    }
   ],
   "source": [
    "def printFullName(first, last, middle = \"\"):\n",
    "    return f'{first} {middle} {last}'\n",
    "\n",
    "printFullName('John', 'Jinglehiemer', 'Jacob')"
   ]
  },
  {
   "cell_type": "markdown",
   "metadata": {},
   "source": [
    "##### Keyword Arguments"
   ]
  },
  {
   "cell_type": "code",
   "execution_count": null,
   "metadata": {},
   "outputs": [],
   "source": [
    "# last_name='Max', first_name='Smith' in the function call\n",
    "\n",
    "# see above\n",
    "print('Coding', end=' Temple')\n"
   ]
  },
  {
   "cell_type": "markdown",
   "metadata": {},
   "source": [
    "# Creating a start, stop, step function"
   ]
  },
  {
   "cell_type": "code",
   "execution_count": 83,
   "metadata": {},
   "outputs": [
    {
     "name": "stdout",
     "output_type": "stream",
     "text": [
      "1\n",
      "3\n",
      "5\n",
      "7\n",
      "9\n",
      "11\n",
      "13\n",
      "15\n",
      "17\n",
      "19\n"
     ]
    }
   ],
   "source": [
    "def my_range(stop, start=0, step=1):\n",
    "    for i in range(start, stop, step):\n",
    "        print(i)\n",
    "my_range(20, 1 ,2)"
   ]
  },
  {
   "cell_type": "markdown",
   "metadata": {},
   "source": [
    "##### Returning Values"
   ]
  },
  {
   "cell_type": "code",
   "execution_count": 87,
   "metadata": {},
   "outputs": [
    {
     "name": "stdout",
     "output_type": "stream",
     "text": [
      "8\n"
     ]
    }
   ],
   "source": [
    "def addNums(num1, num2):\n",
    "    return num1 + num2\n",
    "\n",
    "# returning values from functions allow you to store and utilize data\n",
    "# created with that function...\n",
    "# Printing will display data, but not allow you to do anything with it\n",
    "new_num = addNums(2,6)\n",
    "print(new_num)\n"
   ]
  },
  {
   "cell_type": "markdown",
   "metadata": {},
   "source": [
    "##### *args"
   ]
  },
  {
   "cell_type": "code",
   "execution_count": 93,
   "metadata": {},
   "outputs": [
    {
     "name": "stdout",
     "output_type": "stream",
     "text": [
      "3\n",
      "('Nate', 'Coding Temple', 45, [1, 2, 3])\n",
      "{'city': 'Chicago', 'food': 'hotdog', 'age': 40} \n",
      "\n",
      "Nate\n",
      "Coding Temple\n",
      "45\n",
      "[1, 2, 3]\n",
      "city\n",
      "food\n",
      "age\n"
     ]
    }
   ],
   "source": [
    "# stands for arguments, takes ANY amount of optional arguments as\n",
    "# parameters.\n",
    "# Must be last if multiple params are present\n",
    "# Kwargs are keyword arguments\n",
    "def printArgs(num1, *args, **kwargs):\n",
    "    print(num1)\n",
    "    print(args)\n",
    "    print(kwargs, '\\n')\n",
    "    \n",
    "    for arg in args:\n",
    "        print(arg)\n",
    "    \n",
    "    for kwarg in kwargs:\n",
    "        print(kwarg)\n",
    "    \n",
    "printArgs(3, \"Nate\", \"Coding Temple\", 45, [1,2,3], city=\"Chicago\",\n",
    "          food='hotdog', age=40)"
   ]
  },
  {
   "cell_type": "markdown",
   "metadata": {},
   "source": [
    "##### Docstring"
   ]
  },
  {
   "cell_type": "code",
   "execution_count": null,
   "metadata": {},
   "outputs": [],
   "source": [
    "def printNames(list_1):\n",
    "    \"\"\"\n",
    "        Function requires a list to be passed as a parameter\n",
    "        and will print the contents of the list. Expecting a list\n",
    "        of names(strings) to be passed.\n",
    "    \"\"\"\n",
    "    for name in list_1:\n",
    "        print(name)\n",
    "        \n",
    "some_list = ['Marcus', 'Kevin', 'Sam', 'Nate']\n",
    "printNames(some_list)\n",
    "\n",
    "help(printNames)"
   ]
  },
  {
   "cell_type": "markdown",
   "metadata": {},
   "source": [
    "##### Using a User Function in a Loop"
   ]
  },
  {
   "cell_type": "code",
   "execution_count": null,
   "metadata": {},
   "outputs": [],
   "source": [
    "def addOne(num):\n",
    "    print(num+1)\n",
    "\n",
    "while True:\n",
    "    response = input('What is your number?:')\n",
    "    print('Here is your number + 1:')\n",
    "    \n",
    "    addOne(response)\n",
    "    \n",
    "    quit = input('Ready to quit? press q')\n",
    "    if quit == 'q':\n",
    "        break"
   ]
  },
  {
   "cell_type": "markdown",
   "metadata": {},
   "source": [
    "## Function Exercise <br>\n",
    "<p>Write a function that loops through a list of first_names and a list of last_names, combines the two and return a list of full_names</p>"
   ]
  },
  {
   "cell_type": "code",
   "execution_count": 105,
   "metadata": {},
   "outputs": [
    {
     "name": "stdout",
     "output_type": "stream",
     "text": [
      "['John Smith', 'Evan Smith', 'Jordan Williams', 'Max Bell']\n"
     ]
    }
   ],
   "source": [
    "first_name = ['John', 'Evan', 'Jordan', 'Max']\n",
    "last_name = ['Smith', 'Smith', 'Williams', 'Bell']\n",
    "\n",
    "# Output: ['John Smith', 'Evan Smith', 'Jordan Williams', 'Max Bell']\n",
    "full_name = []\n",
    "def nameCombiner(first, last):\n",
    "    for i in range(len(first)):\n",
    "        full_name.append(f'{first[i]} {last[i]}')\n",
    "    return full_name\n",
    "    \n",
    "print(nameCombiner(first_name, last_name))\n",
    "# List comprehension version\n",
    "# def combinedList(list_1, List_2)\n",
    "#     return [list_1[num] + \" \" + list_2[num] for num in range(len(list_1))]\n",
    "        \n"
   ]
  },
  {
   "cell_type": "markdown",
   "metadata": {},
   "source": [
    "## Scope <br>\n",
    "<p>Scope refers to the ability to access variables, different types of scope include:<br>a) Global<br>b) Function (local)<br>c) Class (local)</p>"
   ]
  },
  {
   "cell_type": "code",
   "execution_count": 110,
   "metadata": {},
   "outputs": [
    {
     "name": "stdout",
     "output_type": "stream",
     "text": [
      "3\n",
      "0\n",
      "1\n",
      "2\n",
      "3\n",
      "4\n"
     ]
    }
   ],
   "source": [
    "number = 3 # Global variable\n",
    "\n",
    "def myFunction():\n",
    "    my_num = 17 # Local Variable. Only can be referenced inside of the\n",
    "    print(number)\n",
    "    return my_num # function\n",
    "\n",
    "myFunction()\n",
    "\n",
    "\n",
    "### for loop vars a technically global\n",
    "### There is no reason to use this outside of the for loop\n",
    "for i in range(5):\n",
    "    print(i)"
   ]
  },
  {
   "cell_type": "markdown",
   "metadata": {},
   "source": [
    "# Exercises"
   ]
  },
  {
   "cell_type": "markdown",
   "metadata": {},
   "source": [
    "## Exercise 1 <br>\n",
    "<p>Given a list as a parameter,write a function that returns a list of numbers that are less than ten</b></i></p><br>\n",
    "<p> For example: Say your input parameter to the function is [1,11,14,5,8,9]...Your output should [1,5,8,9]</p>"
   ]
  },
  {
   "cell_type": "code",
   "execution_count": 116,
   "metadata": {},
   "outputs": [
    {
     "name": "stdout",
     "output_type": "stream",
     "text": [
      "[1, 5, 8, 9]\n"
     ]
    }
   ],
   "source": [
    "# Use the following list - [1,11,14,5,8,9]\n",
    "\n",
    "l_1 = [1,11,14,5,8,9]\n",
    "def number_filter(list):\n",
    "    f_list = []\n",
    "    for number in list:\n",
    "        if number < 10:\n",
    "            f_list.append(number)\n",
    "    print(f_list)\n",
    "\n",
    "number_filter(l_1)\n",
    "\n"
   ]
  },
  {
   "cell_type": "markdown",
   "metadata": {},
   "source": [
    "## Exercise 2 <br>\n",
    "<p>Write a function that takes in two lists and returns the two lists merged together and sorted<br>\n",
    "<b><i>Hint: You can use the .sort() method</i></b></p>"
   ]
  },
  {
   "cell_type": "code",
   "execution_count": 129,
   "metadata": {},
   "outputs": [
    {
     "name": "stdout",
     "output_type": "stream",
     "text": [
      "[1, 2, 3, 3, 4, 4, 5, 5, 6, 6, 7, 8, 10]\n"
     ]
    }
   ],
   "source": [
    "l_1 = [1,2,3,4,5,6]\n",
    "l_2 = [3,4,5,6,7,8,10]\n",
    "\n",
    "\n",
    "def list_merge(list_1, list_2):\n",
    "    l_3 = []\n",
    "    l_3 = list_1 + list_2\n",
    "    return sorted(l_3)\n",
    "    \n",
    "print(list_merge(l_1, l_2))"
   ]
  },
  {
   "cell_type": "code",
   "execution_count": null,
   "metadata": {},
   "outputs": [],
   "source": []
  }
 ],
 "metadata": {
  "kernelspec": {
   "display_name": "Python 3 (ipykernel)",
   "language": "python",
   "name": "python3"
  },
  "language_info": {
   "codemirror_mode": {
    "name": "ipython",
    "version": 3
   },
   "file_extension": ".py",
   "mimetype": "text/x-python",
   "name": "python",
   "nbconvert_exporter": "python",
   "pygments_lexer": "ipython3",
   "version": "3.8.8"
  }
 },
 "nbformat": 4,
 "nbformat_minor": 2
}
